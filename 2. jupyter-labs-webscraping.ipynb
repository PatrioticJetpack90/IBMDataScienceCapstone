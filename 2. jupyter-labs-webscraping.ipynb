{
 "cells": [
  {
   "cell_type": "code",
   "execution_count": 1,
   "id": "538667ca-3406-48a5-a2d1-08c965b31018",
   "metadata": {},
   "outputs": [
    {
     "name": "stdout",
     "output_type": "stream",
     "text": [
      "Requirement already satisfied: beautifulsoup4 in c:\\users\\josephjones\\appdata\\local\\programs\\python\\python313\\lib\\site-packages (4.13.3)\n",
      "Requirement already satisfied: soupsieve>1.2 in c:\\users\\josephjones\\appdata\\local\\programs\\python\\python313\\lib\\site-packages (from beautifulsoup4) (2.6)\n",
      "Requirement already satisfied: typing-extensions>=4.0.0 in c:\\users\\josephjones\\appdata\\local\\programs\\python\\python313\\lib\\site-packages (from beautifulsoup4) (4.12.2)\n"
     ]
    },
    {
     "name": "stderr",
     "output_type": "stream",
     "text": [
      "\n",
      "[notice] A new release of pip is available: 25.0.1 -> 25.1.1\n",
      "[notice] To update, run: python.exe -m pip install --upgrade pip\n"
     ]
    },
    {
     "name": "stdout",
     "output_type": "stream",
     "text": [
      "Requirement already satisfied: requests in c:\\users\\josephjones\\appdata\\local\\programs\\python\\python313\\lib\\site-packages (2.32.3)\n",
      "Requirement already satisfied: charset-normalizer<4,>=2 in c:\\users\\josephjones\\appdata\\local\\programs\\python\\python313\\lib\\site-packages (from requests) (3.4.1)\n",
      "Requirement already satisfied: idna<4,>=2.5 in c:\\users\\josephjones\\appdata\\local\\programs\\python\\python313\\lib\\site-packages (from requests) (3.10)\n",
      "Requirement already satisfied: urllib3<3,>=1.21.1 in c:\\users\\josephjones\\appdata\\local\\programs\\python\\python313\\lib\\site-packages (from requests) (2.3.0)\n",
      "Requirement already satisfied: certifi>=2017.4.17 in c:\\users\\josephjones\\appdata\\local\\programs\\python\\python313\\lib\\site-packages (from requests) (2025.1.31)\n"
     ]
    },
    {
     "name": "stderr",
     "output_type": "stream",
     "text": [
      "\n",
      "[notice] A new release of pip is available: 25.0.1 -> 25.1.1\n",
      "[notice] To update, run: python.exe -m pip install --upgrade pip\n"
     ]
    }
   ],
   "source": [
    "# Install required libraries (if not already available)\n",
    "!pip3 install beautifulsoup4\n",
    "!pip3 install requests\n",
    "\n",
    "# General-purpose modules\n",
    "import sys\n",
    "\n",
    "# For sending HTTP requests\n",
    "import requests\n",
    "\n",
    "# HTML parsing\n",
    "from bs4 import BeautifulSoup  # used for parsing HTML\n",
    "import re\n",
    "import unicodedata\n",
    "\n",
    "# For data processing\n",
    "import pandas as pd\n"
   ]
  },
  {
   "cell_type": "code",
   "execution_count": 2,
   "id": "23c1cde6-15e9-43ec-9ac9-5f05ebbde57a",
   "metadata": {},
   "outputs": [],
   "source": [
    "# Extract date and time from table cells\n",
    "def date_time(table_cells):\n",
    "    \"\"\"\n",
    "    Extracts date and time information from a given HTML table cell.\n",
    "    \"\"\"\n",
    "    return [data_time.strip() for data_time in list(table_cells.strings)][0:2]\n"
   ]
  },
  {
   "cell_type": "code",
   "execution_count": 3,
   "id": "53c4327c-0ad2-41b0-90d9-dc96e9113bf0",
   "metadata": {},
   "outputs": [],
   "source": [
    "# Get booster version text from the table cell\n",
    "def booster_version(table_cells):\n",
    "    \"\"\"\n",
    "    Extracts booster version text from the given HTML table cell.\n",
    "    \"\"\"\n",
    "    out = ''.join([booster_version for i, booster_version in enumerate(table_cells.strings) if i % 2 == 0][0:-1])\n",
    "    return out\n"
   ]
  },
  {
   "cell_type": "code",
   "execution_count": 4,
   "id": "696dd62a-71c2-4265-be9a-abdfd05619bb",
   "metadata": {},
   "outputs": [],
   "source": [
    "# Extract landing outcome from the table cell\n",
    "def landing_status(table_cells):\n",
    "    \"\"\"\n",
    "    Retrieves landing status from the given HTML cell.\n",
    "    \"\"\"\n",
    "    out = [i for i in table_cells.strings][0]\n",
    "    return out\n"
   ]
  },
  {
   "cell_type": "code",
   "execution_count": 5,
   "id": "8358e7b0-3e29-43c7-a411-3cd18177a88c",
   "metadata": {},
   "outputs": [],
   "source": [
    "# Extract payload mass from the cell\n",
    "def get_mass(table_cells):\n",
    "    mass = unicodedata.normalize(\"NFKD\", table_cells.text).strip()\n",
    "    if mass:\n",
    "        new_mass = mass[0:mass.find(\"kg\") + 2]\n",
    "    else:\n",
    "        new_mass = 0\n",
    "    return new_mass\n"
   ]
  },
  {
   "cell_type": "code",
   "execution_count": 6,
   "id": "6f2fcbb5-df2c-4310-b64f-5ed32f9e9e25",
   "metadata": {},
   "outputs": [],
   "source": [
    "# Clean header text and extract column name\n",
    "def extract_column_from_header(row):\n",
    "    \"\"\"\n",
    "    Cleans up and returns the column name from the table header cell.\n",
    "    \"\"\"\n",
    "    if row.br:\n",
    "        row.br.extract()\n",
    "    if row.a:\n",
    "        row.a.extract()\n",
    "    if row.sup:\n",
    "        row.sup.extract()\n",
    "    \n",
    "    column_name = ' '.join(row.contents).strip()\n",
    "    if not column_name.isdigit():\n",
    "        return column_name\n"
   ]
  },
  {
   "cell_type": "code",
   "execution_count": 7,
   "id": "8af8e622-a773-4c5c-a51b-3544b9d17478",
   "metadata": {},
   "outputs": [],
   "source": [
    "# Wikipedia source URL\n",
    "static_url = \"https://en.wikipedia.org/w/index.php?title=List_of_Falcon_9_and_Falcon_Heavy_launches&oldid=1027686922\"\n",
    "\n",
    "# Send HTTP request and parse HTML\n",
    "response = requests.get(static_url)\n",
    "soup = BeautifulSoup(response.text, 'html.parser')  # used for parsing HTML\n"
   ]
  },
  {
   "cell_type": "code",
   "execution_count": null,
   "id": "6a9552ba-1741-4481-955e-81403c81e281",
   "metadata": {},
   "outputs": [],
   "source": []
  }
 ],
 "metadata": {
  "kernelspec": {
   "display_name": "Python 3 (ipykernel)",
   "language": "python",
   "name": "python3"
  },
  "language_info": {
   "codemirror_mode": {
    "name": "ipython",
    "version": 3
   },
   "file_extension": ".py",
   "mimetype": "text/x-python",
   "name": "python",
   "nbconvert_exporter": "python",
   "pygments_lexer": "ipython3",
   "version": "3.13.2"
  }
 },
 "nbformat": 4,
 "nbformat_minor": 5
}
