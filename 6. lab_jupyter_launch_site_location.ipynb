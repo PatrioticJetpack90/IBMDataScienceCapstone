{
 "cells": [
  {
   "cell_type": "code",
   "execution_count": 7,
   "id": "3512b629-8720-4821-a87f-157614b9a4b9",
   "metadata": {},
   "outputs": [
    {
     "name": "stdout",
     "output_type": "stream",
     "text": [
      "Requirement already satisfied: wget in c:\\users\\josephjones\\appdata\\local\\programs\\python\\python313\\lib\\site-packages (3.2)\n"
     ]
    },
    {
     "name": "stderr",
     "output_type": "stream",
     "text": [
      "\n",
      "[notice] A new release of pip is available: 25.0.1 -> 25.1.1\n",
      "[notice] To update, run: python.exe -m pip install --upgrade pip\n"
     ]
    }
   ],
   "source": [
    "# Install wget to download datasets from the internet\n",
    "!pip3 install wget\n"
   ]
  },
  {
   "cell_type": "code",
   "execution_count": 2,
   "id": "07eb2f7f-812b-400d-b44f-d8dc24c230ce",
   "metadata": {},
   "outputs": [],
   "source": [
    "# Used for interactive maps\n",
    "import folium\n",
    "import wget\n",
    "\n",
    "# Load pandas for tabular data\n",
    "import pandas as pd\n",
    "\n",
    "# Import helpful Folium plugins\n",
    "from folium.plugins import MarkerCluster, MousePosition\n",
    "from folium.features import DivIcon\n"
   ]
  },
  {
   "cell_type": "code",
   "execution_count": 3,
   "id": "37afec91-2a38-4dc9-8f14-e06fe91c78f9",
   "metadata": {},
   "outputs": [
    {
     "name": "stdout",
     "output_type": "stream",
     "text": [
      "100% [................................................................................] 7710 / 7710"
     ]
    }
   ],
   "source": [
    "# Download the SpaceX geo dataset\n",
    "spacex_csv_file = wget.download(\n",
    "    'https://cf-courses-data.s3.us.cloud-object-storage.appdomain.cloud/IBM-DS0321EN-SkillsNetwork/datasets/spacex_launch_geo.csv'\n",
    ")\n",
    "\n",
    "# Read the CSV into a DataFrame\n",
    "spacex_df = pd.read_csv(spacex_csv_file)\n"
   ]
  },
  {
   "cell_type": "code",
   "execution_count": 4,
   "id": "92591eee-3bae-4e6e-8802-cd37b50a6e4a",
   "metadata": {},
   "outputs": [
    {
     "data": {
      "text/html": [
       "<div>\n",
       "<style scoped>\n",
       "    .dataframe tbody tr th:only-of-type {\n",
       "        vertical-align: middle;\n",
       "    }\n",
       "\n",
       "    .dataframe tbody tr th {\n",
       "        vertical-align: top;\n",
       "    }\n",
       "\n",
       "    .dataframe thead th {\n",
       "        text-align: right;\n",
       "    }\n",
       "</style>\n",
       "<table border=\"1\" class=\"dataframe\">\n",
       "  <thead>\n",
       "    <tr style=\"text-align: right;\">\n",
       "      <th></th>\n",
       "      <th>Launch Site</th>\n",
       "      <th>Lat</th>\n",
       "      <th>Long</th>\n",
       "    </tr>\n",
       "  </thead>\n",
       "  <tbody>\n",
       "    <tr>\n",
       "      <th>0</th>\n",
       "      <td>CCAFS LC-40</td>\n",
       "      <td>28.562302</td>\n",
       "      <td>-80.577356</td>\n",
       "    </tr>\n",
       "    <tr>\n",
       "      <th>1</th>\n",
       "      <td>CCAFS SLC-40</td>\n",
       "      <td>28.563197</td>\n",
       "      <td>-80.576820</td>\n",
       "    </tr>\n",
       "    <tr>\n",
       "      <th>2</th>\n",
       "      <td>KSC LC-39A</td>\n",
       "      <td>28.573255</td>\n",
       "      <td>-80.646895</td>\n",
       "    </tr>\n",
       "    <tr>\n",
       "      <th>3</th>\n",
       "      <td>VAFB SLC-4E</td>\n",
       "      <td>34.632834</td>\n",
       "      <td>-120.610745</td>\n",
       "    </tr>\n",
       "  </tbody>\n",
       "</table>\n",
       "</div>"
      ],
      "text/plain": [
       "    Launch Site        Lat        Long\n",
       "0   CCAFS LC-40  28.562302  -80.577356\n",
       "1  CCAFS SLC-40  28.563197  -80.576820\n",
       "2    KSC LC-39A  28.573255  -80.646895\n",
       "3   VAFB SLC-4E  34.632834 -120.610745"
      ]
     },
     "execution_count": 4,
     "metadata": {},
     "output_type": "execute_result"
    }
   ],
   "source": [
    "# Keep only necessary columns\n",
    "spacex_df = spacex_df[['Launch Site', 'Lat', 'Long', 'class']]\n",
    "\n",
    "# Create a simplified DataFrame with one entry per launch site\n",
    "launch_sites_df = spacex_df.groupby(['Launch Site'], as_index=False).first()\n",
    "launch_sites_df = launch_sites_df[['Launch Site', 'Lat', 'Long']]\n",
    "launch_sites_df\n"
   ]
  },
  {
   "cell_type": "code",
   "execution_count": 6,
   "id": "9be74363-733e-483e-aecc-44d1d6a46b09",
   "metadata": {},
   "outputs": [],
   "source": [
    "# Define initial map center: NASA Johnson Space Center\n",
    "nasa_coordinate = [29.559684888503615, -95.0830971930759]\n",
    "\n",
    "# Initialize the Folium map centered on NASA\n",
    "site_map = folium.Map  # initiate map(location=nasa_coordinate, zoom_start=10)\n"
   ]
  },
  {
   "cell_type": "code",
   "execution_count": null,
   "id": "ebe585ed-cd92-48cb-a686-a2a9424f7563",
   "metadata": {},
   "outputs": [],
   "source": []
  }
 ],
 "metadata": {
  "kernelspec": {
   "display_name": "Python 3 (ipykernel)",
   "language": "python",
   "name": "python3"
  },
  "language_info": {
   "codemirror_mode": {
    "name": "ipython",
    "version": 3
   },
   "file_extension": ".py",
   "mimetype": "text/x-python",
   "name": "python",
   "nbconvert_exporter": "python",
   "pygments_lexer": "ipython3",
   "version": "3.13.2"
  }
 },
 "nbformat": 4,
 "nbformat_minor": 5
}
